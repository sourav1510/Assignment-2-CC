{
 "cells": [
  {
   "cell_type": "code",
   "execution_count": 6,
   "metadata": {},
   "outputs": [
    {
     "name": "stdout",
     "output_type": "stream",
     "text": [
      "add:\n",
      "[15, 25, 35, 45, 55, 65, 75, 85, 20, 30]\n",
      "remove:\n",
      "[15, 25, 45, 65, 75, 85, 20, 30]\n",
      "Sort:\n",
      "[15, 20, 25, 30, 45, 65, 75, 85]\n",
      "The final list: \n",
      "[85, 75, 65, 45, 30, 25, 20, 15]\n"
     ]
    }
   ],
   "source": [
    "# 1\n",
    "\n",
    "L = [15, 25, 35, 45, 55, 65, 75, 85]\n",
    "\n",
    "#add\n",
    "print(\"add:\")\n",
    "L.append(20)\n",
    "L.extend([30])\n",
    "print(L)\n",
    "#remove\n",
    "print(\"remove:\")\n",
    "L.remove(35)\n",
    "L.remove(55)\n",
    "print(L)\n",
    "# Sort\n",
    "print(\"Sort:\")\n",
    "L.sort()\n",
    "print(L)\n",
    "#descending order\n",
    "L.sort(reverse=True)\n",
    "\n",
    "#final list\n",
    "print(\"The final list: \")\n",
    "print(L)\n"
   ]
  },
  {
   "cell_type": "code",
   "execution_count": 1,
   "metadata": {},
   "outputs": [
    {
     "name": "stdout",
     "output_type": "stream",
     "text": [
      "The highest score is 92 and at index 5\n",
      "The lowest score is 45 and at index 0 and appeared 2 times.\n",
      "[45, 58, 92, 89, 45.5, 76, 89.5, 45]\n"
     ]
    }
   ],
   "source": [
    "#2\n",
    "scores = (45, 89.5, 76, 45.5, 89, 92, 58, 45)\n",
    "\n",
    "highest_score = max(scores)\n",
    "highest_scores_index = scores.index(highest_score)\n",
    "print(f\"The highest score is {highest_score} and at index {highest_scores_index}\")\n",
    "\n",
    "lowest_score = min(scores)\n",
    "lowest_score_index = scores.index(lowest_score)\n",
    "lowest_score_count = scores.count(lowest_score)\n",
    "print(f\"The lowest score is {lowest_score} and at index {lowest_score_index} and appeared {lowest_score_count} times.\")\n",
    "\n",
    "reversed_tuple = scores[::-1]\n",
    "reversed_list = list(reversed_tuple)\n",
    "print(reversed_list)"
   ]
  },
  {
   "cell_type": "code",
   "execution_count": 14,
   "metadata": {},
   "outputs": [
    {
     "name": "stdout",
     "output_type": "stream",
     "text": [
      "Random 100 odd numbers between 100 to 900: \n",
      " [257, 513, 109, 543, 495, 165, 179, 287, 473, 473, 867, 161, 387, 767, 393, 581, 363, 629, 719, 529, 313, 417, 639, 397, 137, 495, 749, 489, 113, 755, 115, 661, 773, 827, 891, 655, 389, 103, 759, 293, 573, 815, 815, 445, 371, 893, 209, 101, 321, 325, 289, 273]\n",
      "Total number of odd numbers: 52\n",
      "\n",
      "Random 100 even numbers between 100 to 900: \n",
      " [656, 894, 278, 572, 704, 440, 130, 202, 878, 350, 802, 738, 420, 582, 538, 816, 452, 800, 508, 900, 800, 870, 884, 724, 364, 464, 178, 708, 246, 402, 646, 544, 482, 718, 820, 354, 336, 424, 404, 842, 132, 674, 294, 754, 612, 660, 268, 664]\n",
      "Total number of even numbers: 48\n",
      "\n",
      "Random 100 prime numbers between 100 to 900: \n",
      " [257, 109, 179, 719, 313, 397, 137, 113, 661, 773, 827, 389, 103, 293, 101]\n",
      "Total number of prime numbers: 15\n",
      "\n"
     ]
    }
   ],
   "source": [
    "#3\n",
    "import random\n",
    "\n",
    "random_number = [random.randint(100, 900) for _ in range (100)]\n",
    "\n",
    "def isprime(n):\n",
    "    if n <= 1:\n",
    "        return False\n",
    "    for i in range(2, int(n**0.5) + 1):\n",
    "        if n%i == 0:\n",
    "            return False\n",
    "    return True\n",
    "\n",
    "odd_numbers = [num for num in random_number if num%2 != 0]\n",
    "even_numbers = [num for num in random_number if num%2==0]\n",
    "prime_numbers = [num for num in random_number if isprime(num)]\n",
    "\n",
    "print(f\"Random 100 odd numbers between 100 to 900: \\n {odd_numbers}\")\n",
    "print(f\"Total number of odd numbers: {len(odd_numbers)}\\n\")\n",
    "print(f\"Random 100 even numbers between 100 to 900: \\n {even_numbers}\")\n",
    "print(f\"Total number of even numbers: {len(even_numbers)}\\n\")\n",
    "print(f\"Random 100 prime numbers between 100 to 900: \\n {prime_numbers}\")\n",
    "print(f\"Total number of prime numbers: {len(prime_numbers)}\\n\")\n",
    "    \n",
    "    \n"
   ]
  },
  {
   "cell_type": "code",
   "execution_count": 19,
   "metadata": {},
   "outputs": [
    {
     "name": "stdout",
     "output_type": "stream",
     "text": [
      "{34, 99, 45, 78, 23, 56}\n",
      "\n",
      "\n",
      "{99, 78}\n",
      "\n",
      "\n",
      "{34, 45, 23, 56}\n",
      "\n",
      "\n",
      "False\n",
      "False\n",
      "\n",
      "\n",
      "78 removed from set A\n",
      "{56, 34, 99}\n"
     ]
    }
   ],
   "source": [
    "#4\n",
    "A = {34, 56, 78, 99}\n",
    "B = {78, 45, 99, 23}\n",
    "union_scores = A | B\n",
    "## or union_scores = A.union(B), union_scores = B.union(A)\n",
    "print(union_scores) \n",
    "print(\"\\n\") \n",
    "\n",
    "intersection = A & B\n",
    "## or insection = A.intersection(B) , B.intersection(A)\n",
    "print(intersection) \n",
    "print(\"\\n\") \n",
    "\n",
    "symmetric_differencE = A ^ B\n",
    "print(symmetric_differencE)  \n",
    "print(\"\\n\") \n",
    "\n",
    "is_A_SubsetB = A.issubset(B)\n",
    "is_B_suSersetA = B.issuperset(A)\n",
    "print(is_A_SubsetB)  \n",
    "print(is_B_suSersetA)  \n",
    "print(\"\\n\")\n",
    "\n",
    "x = 78  \n",
    "if x in A:\n",
    "    A.remove(x)\n",
    "    print(f\"{x} removed from set A\")\n",
    "else:\n",
    "    print(f\"{x} not present in set A\")\n",
    "print(A)  \n",
    "\n",
    "\n",
    "\n",
    "\n",
    "\n",
    "\n"
   ]
  },
  {
   "cell_type": "code",
   "execution_count": 21,
   "metadata": {},
   "outputs": [
    {
     "name": "stdout",
     "output_type": "stream",
     "text": [
      "{'population': 8419600, 'area': 468.9, 'location': 'New York'}\n"
     ]
    }
   ],
   "source": [
    "Data = {\"city\": \"New York\", \"population\": 8419600, \"area\": 468.9}\n",
    "Data[\"location\"] = Data.pop(\"city\")\n",
    "print(Data)  \n"
   ]
  }
 ],
 "metadata": {
  "kernelspec": {
   "display_name": "Python 3",
   "language": "python",
   "name": "python3"
  },
  "language_info": {
   "codemirror_mode": {
    "name": "ipython",
    "version": 3
   },
   "file_extension": ".py",
   "mimetype": "text/x-python",
   "name": "python",
   "nbconvert_exporter": "python",
   "pygments_lexer": "ipython3",
   "version": "3.13.1"
  }
 },
 "nbformat": 4,
 "nbformat_minor": 2
}
